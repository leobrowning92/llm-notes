{
 "cells": [
  {
   "attachments": {},
   "cell_type": "markdown",
   "metadata": {},
   "source": [
    "# Note tagger"
   ]
  },
  {
   "cell_type": "code",
   "execution_count": 2,
   "metadata": {},
   "outputs": [],
   "source": [
    "%load_ext autoreload\n",
    "%autoreload 2"
   ]
  },
  {
   "cell_type": "code",
   "execution_count": 14,
   "metadata": {},
   "outputs": [],
   "source": [
    "import os\n",
    "import sys\n",
    "import aiohttp\n",
    "import json\n",
    "import re\n",
    "import os\n",
    "import time\n",
    "import llm_notes\n",
    "from pathlib import Path\n",
    "import asyncio\n",
    "import llm_notes\n",
    "import yaml\n",
    "import networkx as nx\n",
    "from llm_notes.note import load_note_directory, Note\n",
    "from pprint import pprint\n",
    "from typing import List, Optional, Dict\n",
    "import pandas as pd\n",
    "import numpy as np\n",
    "import matplotlib.pyplot as plt\n",
    "import functools\n",
    "\n",
    "from langchain.llms import OpenAI\n",
    "from langchain.chat_models import ChatOpenAI\n",
    "from langchain.document_loaders import (\n",
    "    TextLoader,\n",
    "    DirectoryLoader,\n",
    "    UnstructuredMarkdownLoader,\n",
    ")\n",
    "from langchain.indexes import VectorstoreIndexCreator\n",
    "from langchain.vectorstores.chroma import Chroma\n",
    "from langchain.vectorstores import FAISS\n",
    "from langchain.callbacks import StdOutCallbackHandler\n",
    "from langchain.chains import LLMChain\n",
    "from langchain.llms import OpenAI\n",
    "from langchain.prompts import PromptTemplate\n",
    "from langchain.text_splitter import CharacterTextSplitter\n",
    "from langchain.embeddings import OpenAIEmbeddings\n",
    "from langchain.schema import AIMessage, HumanMessage, SystemMessage\n",
    "import logging\n",
    "\n",
    "api_key = os.environ.get(\"OPENAI_API_KEY\")"
   ]
  },
  {
   "cell_type": "code",
   "execution_count": 18,
   "metadata": {},
   "outputs": [],
   "source": [
    "logger = logging.getLogger(__name__)\n",
    "logger.setLevel(logging.INFO)\n",
    "# create console handler with a higher log level\n",
    "debug_stream = logging.StreamHandler(sys.stdout)\n",
    "debug_stream.setLevel(logging.DEBUG)\n",
    "# create formatter and add it to the handlers\n",
    "debug_fmtr = logging.Formatter(\"%(asctime)s - %(message)s\")  # noqa\n",
    "\n",
    "\n",
    "debug_stream.setFormatter(debug_fmtr)\n",
    "logger.handlers = []\n",
    "logger.addHandler(debug_stream)"
   ]
  },
  {
   "cell_type": "code",
   "execution_count": 19,
   "metadata": {},
   "outputs": [
    {
     "name": "stdout",
     "output_type": "stream",
     "text": [
      "2023-07-06 08:09:03,493 - test\n"
     ]
    }
   ],
   "source": [
    "logger.info(\"test\")"
   ]
  },
  {
   "attachments": {},
   "cell_type": "markdown",
   "metadata": {},
   "source": [
    "### Set up note collection and graph"
   ]
  },
  {
   "cell_type": "code",
   "execution_count": 5,
   "metadata": {},
   "outputs": [],
   "source": [
    "notes = load_note_directory(Path(\"./example_notes/\"))"
   ]
  },
  {
   "cell_type": "code",
   "execution_count": 6,
   "metadata": {},
   "outputs": [
    {
     "name": "stdout",
     "output_type": "stream",
     "text": [
      "self.title='relational note taking', self.tags=['#notetaking'], self.sources=['https://thesephist.com/posts/inc/']\n"
     ]
    }
   ],
   "source": [
    "n = notes[3]\n",
    "print(n)"
   ]
  },
  {
   "cell_type": "code",
   "execution_count": 7,
   "metadata": {},
   "outputs": [
    {
     "data": {
      "text/plain": [
       "NoteMetadata(title='relational note taking.md', tags=['#notetaking'], note_links=['My Note taking principles', 'Zettelkasten', 'Evergreen Notes', 'My Note taking principles', 'General Zettelkasten Principles', 'Evergreen Notes', 'Obsidian', 'Roam research', 'Notion'], back_links=[], short_title='rltnl_note_tkng.')"
      ]
     },
     "execution_count": 7,
     "metadata": {},
     "output_type": "execute_result"
    }
   ],
   "source": [
    "n.metadata"
   ]
  },
  {
   "cell_type": "code",
   "execution_count": 8,
   "metadata": {},
   "outputs": [],
   "source": [
    "note_graph = llm_notes.note.construct_note_graph(notes)"
   ]
  },
  {
   "cell_type": "code",
   "execution_count": 9,
   "metadata": {},
   "outputs": [
    {
     "data": {
      "text/plain": [
       "EdgeView([('ldd_qstns_dtls.', 'rtls_play'), ('ldd_qstns_dtls.', 'story_rspns_plyrs_over_just_chrct_rspns'), ('ldd_qstns_dtls.', 'frtfl_void_-_rich_never_exhst_dtl'), ('ldd_qstns_dtls.', 'ldd_qstns_cmbt'), ('ldd_qstns_dtls.', 'ldd_qstns_chrct_crtn'), ('ldd_qstns_dtls.', 'swrds_wtht_mstr'), ('give_vs_take_cnvrs_styls_cnvrs_drknb', 'imprv_thtre_stryt_frmwr'), ('give_vs_take_cnvrs_styls_cnvrs_drknb', 'frtfl_void_-_rich_never_exhst_dtl'), ('give_vs_take_cnvrs_styls_cnvrs_drknb', 'ldd_qstns_dtls'), ('give_vs_take_cnvrs_styls_cnvrs_drknb', 'ldd_sttmn_dtls'), ('give_vs_take_cnvrs_styls_cnvrs_drknb', 'chrch_intrr'), ('imprv_thtre_stryt_frmwr', 'sktch_imprv_is_wrkng_bckwr_build_lrgr_wrldv'), ('imprv_thtre_stryt_frmwr', 'prprn_imprv_rpgs'), ('imprv_thtre_stryt_frmwr', 'blnce_btwn_imprv_prior_scene_rlply'), ('imprv_thtre_stryt_frmwr', 'how_nmss_systm_crts_strs'), ('imprv_thtre_stryt_frmwr', 'how_nmss_systm_crts_strs.'), ('rltnl_note_tkng.', 'my_note_tkng_prncp'), ('rltnl_note_tkng.', 'zttlk'), ('rltnl_note_tkng.', 'evrgr_notes'), ('rltnl_note_tkng.', 'gnrl_zttlk_prncp'), ('rltnl_note_tkng.', 'obsdn'), ('rltnl_note_tkng.', 'roam_rsrch'), ('rltnl_note_tkng.', 'ntn'), ('sktch_imprv_is_wrkng_bckwr_build_lrgr_wrldv', 'blnce_btwn_imprv_prior_scene_rlply'), ('mnngf_spllc_actn_ecnmy', 'mchnc_allow_mnngf_agncy_rpgs'), ('mnngf_spllc_actn_ecnmy', 'osr'), ('mnngf_spllc_actn_ecnmy', 'great_mgcs_rqre_scrfc'), ('mnngf_spllc_actn_ecnmy', 'doubt_advnt_crvs_arln'), ('mnngf_spllc_actn_ecnmy', 'grgna_mines_dwly'), ('story_rspns_plyrs_over_just_chrct_rspns', 'heart_rpg'), ('story_rspns_plyrs_over_just_chrct_rspns', 'ant-c_uvg'), ('story_rspns_plyrs_over_just_chrct_rspns', 'blngn_otsde_blngn_bob_systm'), ('story_rspns_plyrs_over_just_chrct_rspns', 'swrds_wtht_mstr'), ('story_rspns_plyrs_over_just_chrct_rspns', 'rtls_play'), ('story_rspns_plyrs_over_just_chrct_rspns', 'cntrl_party_fgre_shrd_npc.m'), ('obsdn_wbste_mkdcs', 'mkdcs'), ('what_is_zttlk', 'gnrl_zttlk_prncp'), ('what_is_zttlk', 'evrgr_notes'), ('what_is_zttlk', 'zttlk_site_frms'), ('graph_nrl_ntwrk_(gnn)_intrd', 'gcn_graph_cnvlt_lyrs'), ('graph_nrl_ntwrk_(gnn)_intrd', 'mssge_pssng_algrt'), ('graph_nrl_ntwrk_(gnn)_intrd', 'obtnn_grnd_truth_lctn_data'), ('graph_nrl_ntwrk_(gnn)_intrd', 'gssn_blf_prpgt'), ('graph_nrl_ntwrk_(gnn)_intrd', 'gntle_intrd_graph_nrl_ntwrk'), ('graph_nrl_ntwrk_(gnn)_intrd', 'gnn_2020_rvw_into_2021.'), ('gssn_blf_prpgt', 'bysn_mthds'), ('gssn_blf_prpgt', 'fctr_graph_used_prbbl_infrn'), ('how_nmss_systm_crts_strs.', 'bttle_mddl_earth_-_shdw_war'), ('how_nmss_systm_crts_strs.', 'how_build_use_strng_thms_mtfs'), ('how_nmss_systm_crts_strs.', 'ldd_estbl_qstns'), ('cntrl_party_fgre_shrd_npc.m', 'tim_bnckn'), ('cntrl_party_fgre_shrd_npc.m', 'grge_odnnl'), ('cntrl_party_fgre_shrd_npc.m', 'king_arthr_arthr_lgnds'), ('cntrl_party_fgre_shrd_npc.m', 'harry_pttr'), ('cntrl_party_fgre_shrd_npc.m', 'vntre_rpg'), ('cntrl_party_fgre_shrd_npc.m', 'crvn_shrd_chrct_uvg'), ('gntle_intrd_graph_nrl_ntwrk', 'dstl_-_pub'), ('gntle_intrd_graph_nrl_ntwrk', 'mssge_pssng_algrt'), ('fctr_graph_used_prbbl_infrn', 'pyro_-_prbbl_prgrm'), ('dstl_-_pb.md', 'mchl_nlsn'), ('dstl_-_pb.md', 'andrj_krpth'), ('dstl_-_pb.md', 'ysho_bngo'), ('dstl_-_pb.md', 'ian_gdfll'), ('death_mvs.m', 'uvg_rpg_-_ultra_vlt_grssl'), ('death_mvs.m', 'heart_rpg'), ('death_mvs.m', 'lgcy_life_among_ruins_rpg'), ('death_mvs.m', 'no_time_die_movie'), ('blnce_btwn_imprv_prior_scene_rlply', 'scrt_cstro_negro_small_town_devil_mystr'), ('blnce_btwn_imprv_prior_scene_rlply', 'ant-c_uvg'), ('prprn_imprv_rpgs.', 'ldd_qstns_dtls'), ('prprn_imprv_rpgs.', 'last_ghasp_town_gnrtr_wlcme_scnc_whrvr'), ('prprn_imprv_rpgs.', 'last_ghasp_grmre'), ('prprn_imprv_rpgs.', 'npc_trngl'), ('prprn_imprv_rpgs.', 'rkhll_rpg'), ('prprn_imprv_rpgs.', 'heart_rpg'), ('prprn_imprv_rpgs.', 'vntre_rpg'), ('prprn_imprv_rpgs.', 'blngn_otsde_blngn_bob_systm'), ('prprn_imprv_rpgs.', 'sggst_undrl_chsvn_prcdr_cntnt'), ('prprn_imprv_rpgs.', 'how_make_bttr_npcs'), ('prprn_imprv_rpgs.', 'ant-c_uvg')])"
      ]
     },
     "execution_count": 9,
     "metadata": {},
     "output_type": "execute_result"
    }
   ],
   "source": [
    "note_graph.edges"
   ]
  },
  {
   "cell_type": "markdown",
   "metadata": {},
   "source": [
    "#### Tags present in notes"
   ]
  },
  {
   "cell_type": "code",
   "execution_count": null,
   "metadata": {},
   "outputs": [],
   "source": [
    "all_tags = set([])\n",
    "for n in notes:\n",
    "    all_tags.update(n.tags)\n",
    "\n",
    "curated_tags = {\n",
    "    \"#bayesian\",\n",
    "    \"#deeplearning\",\n",
    "    \"#gamedesign\",\n",
    "    \"#graph\",\n",
    "    \"#homebrew\",\n",
    "    \"#list\",\n",
    "    \"#mythoughts\",\n",
    "    \"#notetaking\",\n",
    "    \"#pbta\",\n",
    "    \"#pluginrules\",\n",
    "    \"#probability\",\n",
    "    \"#resource\",\n",
    "    \"#review\",\n",
    "    \"#rpgs\",\n",
    "    \"#rules\",\n",
    "    \"#stub\",\n",
    "    \"#thoughtcollection\",\n",
    "    \"#thoughts\",\n",
    "    \"#tool\",\n",
    "    \"#tutorial\",\n",
    "    \"#writing\",\n",
    "}\n",
    "curated_tag_descriptions = {\n",
    "    \"#bayesian: notes with this tag are about bayesian statistics\",\n",
    "    \"#deeplearning: notes with this tag are about AI and deep learning\",\n",
    "    \"#gamedesign: notes with this tag are about game design in videogames or tabletop games\",\n",
    "    \"#graph: notes with this tag are about graphs, graph structures, or graph algorithms\",\n",
    "    \"#homebrew: notes with this tag are about my own homebrew rules or fiction for tabletop games\",\n",
    "    \"#list: notes with this tag are a collection of links to other notes or related resources\",\n",
    "    \"#mythoughts: notes with this tag are my own thoughts and opinions\",\n",
    "    \"#notetaking: notes with this tag are about the note taking process\",\n",
    "    \"#pbta: notes with this tag are about powered by the apocalypse tabletop games\",\n",
    "    \"#pluginrules: notes with this tag are about game rules or systems that can be added to other games\",\n",
    "    \"#probability: notes with this tag are about mathematical probability\",\n",
    "    \"#resource: notes with this tag are about a specific resource\",\n",
    "    \"#review: notes with this tag are a review\",\n",
    "    \"#rpgs: notes with this tag are about roleplaying games or tabletop games\",\n",
    "    \"#rules: notes with this tag area bout game rules or systems\",\n",
    "    \"#stub: notes with this tag are stubs that need to be expanded, they have little content of their own\",\n",
    "    \"#thoughtcollection: notes with this tag are a collection of thoughts or ideas\",\n",
    "    \"#thoughts: notes with this tag are my thoughts\",\n",
    "    \"#tool: notes with this tag are about a specific tool\",\n",
    "    \"#tutorial: notes with this tag are about tutorails\",\n",
    "    \"#writing: notes with this tag are on the topic of writing\",\n",
    "}"
   ]
  },
  {
   "attachments": {},
   "cell_type": "markdown",
   "metadata": {},
   "source": [
    "### Tagger structure and components\n",
    "- consume text\n",
    "- get adjacent notes\n",
    "- determine if these notes are similar to the current note, and if so\n",
    "- get similar text in vector store and consider the texts that are similar to the current text\n",
    "- for both similar and linked notes, use the tags that are present in those notex, or the global set of tags as the space to tag from."
   ]
  },
  {
   "cell_type": "markdown",
   "metadata": {},
   "source": [
    "## Manual openai api use, minimal langchain"
   ]
  },
  {
   "cell_type": "markdown",
   "metadata": {},
   "source": [
    "### Tagging prompt to analyze tags"
   ]
  },
  {
   "cell_type": "code",
   "execution_count": 20,
   "metadata": {},
   "outputs": [],
   "source": [
    "sys_prompt = \"\"\"\n",
    "You are Adrian, an expert in topic classification.\n",
    "You are tasked with reading a note, as well as any other related notes,\n",
    "and determining if it has any missing topic tags.\n",
    "\"\"\"\n",
    "preamble_user_prompt = \"\"\"\n",
    "A tag should be related to the broad content and topic of the note.\n",
    "It should be one or two words with no spaces between them.\n",
    "When considering if a tag is missing from the note,\n",
    "consider if linked or related notes have a tag that might also be relevant to the note,\n",
    "whether it is appropriate to the original note itself, and whether it is a broad enough topic.\n",
    "\n",
    "I will give you a note, along with any related notes and their tags,\n",
    "and you will analyse them, step-by-step to determine if you think any tags should be added to the note.\n",
    "\n",
    "I will give you a list of tags and short descriptions about when they apply. \n",
    "Make sure you suggest tags from this list.\n",
    "\"\"\"\n",
    "ai_response = \"\"\"\n",
    "Yes, I understand, I am Adrian and I will anlyse the note for any missing relevant tags.\"\"\"\n",
    "\n",
    "query_user_prompt = \"\"\"\n",
    "Excellent! Lets begin\n",
    "note:\n",
    "    full_text: {full_text}\n",
    "\n",
    "linked notes:\n",
    "    {linked_notes}\n",
    "\n",
    "similar notes:\n",
    "    {similar_notes}\n",
    "\n",
    "prefered tags: {desired_tags}\n",
    "\"\"\"\n",
    "\n",
    "\n",
    "def format_note_and_tags(n):\n",
    "    return \" \".join(n.tags) + \"\\n\" + n.full_text\n",
    "\n",
    "\n",
    "def async_timer(async_fn):\n",
    "    @functools.wraps(async_fn)\n",
    "    async def wrapper(*args, **kwargs):\n",
    "        start = time.time()\n",
    "        result = await async_fn(*args, **kwargs)\n",
    "        end = time.time()\n",
    "        logger.info(f\"Time taken: {end-start}s\")\n",
    "        return result\n",
    "\n",
    "    return wrapper\n",
    "\n",
    "\n",
    "@async_timer\n",
    "async def analyze_tags(\n",
    "    note: Note,\n",
    "    linked_notes: List[Note],\n",
    "    similar_notes: List[Note],\n",
    "    tag_descriptions=curated_tag_descriptions,\n",
    "    temperature=0.1,\n",
    ") -> dict:\n",
    "    headers = {\n",
    "        \"Content-Type\": \"application/json\",\n",
    "        \"Authorization\": f\"Bearer {api_key}\",\n",
    "    }\n",
    "\n",
    "    data = {\n",
    "        \"model\": \"gpt-3.5-turbo\",\n",
    "        \"messages\": [\n",
    "            {\"role\": \"system\", \"content\": sys_prompt},\n",
    "            {\"role\": \"user\", \"content\": preamble_user_prompt},\n",
    "            {\"role\": \"assistant\", \"content\": ai_response},\n",
    "            {\n",
    "                \"role\": \"user\",\n",
    "                \"content\": query_user_prompt.format(\n",
    "                    full_text=\"\\n\".join([note.title, note.full_text]),\n",
    "                    linked_notes=\"\\n\\n\".join(\n",
    "                        [format_note_and_tags(n) for n in linked_notes]\n",
    "                    ),\n",
    "                    similar_notes=\"\\n\\n\".join(\n",
    "                        [format_note_and_tags(n) for n in similar_notes]\n",
    "                    ),\n",
    "                    desired_tags=tag_descriptions,\n",
    "                ),\n",
    "            },\n",
    "        ],\n",
    "        \"temperature\": temperature,\n",
    "    }\n",
    "\n",
    "    async with aiohttp.ClientSession() as session:\n",
    "        async with session.post(\n",
    "            \"https://api.openai.com/v1/chat/completions\",\n",
    "            headers=headers,\n",
    "            data=json.dumps(data),\n",
    "        ) as response:\n",
    "            response_data = await response.json()\n",
    "\n",
    "    return response_data"
   ]
  },
  {
   "cell_type": "code",
   "execution_count": 21,
   "metadata": {},
   "outputs": [
    {
     "name": "stdout",
     "output_type": "stream",
     "text": [
      "2023-07-06 08:09:18,507 - Time taken: 4.050398111343384s\n"
     ]
    },
    {
     "data": {
      "text/plain": [
       "{'id': 'chatcmpl-7ZDP0QK9Y8la3UHahELAdiuPkn7Wv',\n",
       " 'object': 'chat.completion',\n",
       " 'created': 1688627354,\n",
       " 'model': 'gpt-3.5-turbo-0613',\n",
       " 'choices': [{'index': 0,\n",
       "   'message': {'role': 'assistant',\n",
       "    'content': \"Based on the given note and the provided tags, I would suggest adding the following tags to the note:\\n\\n- #thoughts: The note discusses the author's thoughts and principles on note-taking.\\n- #notetaking: The note is specifically about the process of note-taking.\\n- #incremental: The note emphasizes the incremental nature of thought and note-taking.\\n- #time: The note highlights the importance of time in remembering and organizing notes.\\n- #relational: The note mentions relational note organization and its benefits.\\n- #principles: The note discusses the principles of incremental note-taking.\\n\\nThese tags capture the main topics and themes of the note and provide a more comprehensive understanding of its content.\"},\n",
       "   'finish_reason': 'stop'}],\n",
       " 'usage': {'prompt_tokens': 1087,\n",
       "  'completion_tokens': 142,\n",
       "  'total_tokens': 1229}}"
      ]
     },
     "execution_count": 21,
     "metadata": {},
     "output_type": "execute_result"
    }
   ],
   "source": [
    "await analyze_tags(notes[3], [], [])"
   ]
  },
  {
   "cell_type": "markdown",
   "metadata": {},
   "source": [
    "### Vector similarity using FAISS to KISS"
   ]
  },
  {
   "cell_type": "code",
   "execution_count": 23,
   "metadata": {},
   "outputs": [
    {
     "name": "stderr",
     "output_type": "stream",
     "text": [
      "  0%|          | 0/23 [00:00<?, ?it/s]"
     ]
    },
    {
     "name": "stderr",
     "output_type": "stream",
     "text": [
      "100%|██████████| 23/23 [00:00<00:00, 34.12it/s]\n"
     ]
    }
   ],
   "source": [
    "loader = DirectoryLoader(\n",
    "    \"example_notes/\", loader_cls=UnstructuredMarkdownLoader, show_progress=True\n",
    ")\n",
    "\n",
    "docs = loader.load()\n",
    "\n",
    "text_splitter = CharacterTextSplitter(chunk_size=1000, chunk_overlap=0)\n",
    "texts = text_splitter.split_documents(docs)\n",
    "\n",
    "\n",
    "embeddings = OpenAIEmbeddings()\n",
    "\n",
    "\n",
    "vec_db = FAISS.from_documents(texts, embeddings)"
   ]
  },
  {
   "cell_type": "code",
   "execution_count": 24,
   "metadata": {},
   "outputs": [
    {
     "data": {
      "text/plain": [
       "[(Document(page_content=\"These examples strongly link to the idea of a [[A Fruitful Void - rich but never exhaustive detail]] and [[Loaded Questions with details]]. it also adds some symmetry and implies [[Loaded statements with details]] which is an aspect that I haven't thought so deaply of.\\n\\nAnother article, that was mentioned alongside this is about [[The Church of Interruption]] and takes a much more moralist tone, by a self professed Taker/Interruptor. And instead talks about how you might think about avoiding hurting a giver.\", metadata={'source': 'example_notes/give vs take conversation styles and conversational doorknobs.md'}),\n",
       "  0.4246919),\n",
       " (Document(page_content='blog on GCN more specifically', metadata={'source': 'example_notes/GCN graph convolution layers.md'}),\n",
       "  0.4609743),\n",
       " (Document(page_content='I should say ideally, because if we are to attached to things that are already established, then we cant be free with where things are going. And if we are too attached to where things are going, then we might have to run roughshod over what has been established. See [[The secret of Castro negro small town devil mystery]] for a good discussion of how to strike the balance of hitting repeat themes and motifs while still being flexible. This balance between future creativity, and the richness of past narrative is a balance I think is well discussed by the idea of [[anti-cannon in the UVG]]\\n\\nSeth Rogen said of what makes good improv in this interview that the best improve comes from thinking like a writer not an actor. Of thinking not just what would my character would say in this moment, but what would I hope a character would say to make this whole scene better and move the story forward and make it all seem more natural and round out the edges that dialogue can have sometime.', metadata={'source': 'example_notes/Balance between improv and prior scene in roleplay.md'}),\n",
       "  0.47288167),\n",
       " (Document(page_content=\"When magic has moved into the story aspect of the game in my past games, i have sometimes found that some judicious discussion can add interesting tradeoffs to magic. For example in [[Doubt adventure with Corvus Auralian]], destroying the augury stones (a magical artefact) with a magic sword resulted in grievous injury to Corvus' right hand, and kicked off his exploration of the darker aspects of his character in order to achieve his ultimate goals. This story tradeoff was very intriguing, but was largely free form, and so was only possible through high effort individual incorporation of that into the ongoing story. Implementing tradeoffs like this into a system ensure that it is a key consideration in decision making, and reduce the onus on any one player of injecting them into play, perhaps making the tradeoffs feel more real or fair.\", metadata={'source': 'example_notes/meaningful spellcasting and the action economy.md'}),\n",
       "  0.49708325)]"
      ]
     },
     "execution_count": 24,
     "metadata": {},
     "output_type": "execute_result"
    }
   ],
   "source": [
    "vec_db.similarity_search_with_score(\"fruit\")"
   ]
  },
  {
   "cell_type": "code",
   "execution_count": 25,
   "metadata": {},
   "outputs": [],
   "source": [
    "def get_similar_notes(note, vec_db, note_title_dict, score_threshold=0.45):\n",
    "    similar_docs = vec_db.similarity_search_with_score(\n",
    "        \"\\n\".join([note.title, note.full_text])\n",
    "    )\n",
    "    similar_note_titles = [\n",
    "        Path(d[0].metadata[\"source\"]).stem\n",
    "        for d in similar_docs\n",
    "        if d[1] < score_threshold\n",
    "    ]\n",
    "    similar_notes = [note_title_dict[t] for t in similar_note_titles if t != note.title]\n",
    "    return similar_notes"
   ]
  },
  {
   "cell_type": "code",
   "execution_count": 26,
   "metadata": {},
   "outputs": [
    {
     "data": {
      "text/plain": [
       "<langchain.vectorstores.faiss.FAISS at 0x169037110>"
      ]
     },
     "execution_count": 26,
     "metadata": {},
     "output_type": "execute_result"
    }
   ],
   "source": [
    "vec_db"
   ]
  },
  {
   "cell_type": "markdown",
   "metadata": {},
   "source": [
    "### Full function"
   ]
  },
  {
   "cell_type": "code",
   "execution_count": 27,
   "metadata": {},
   "outputs": [
    {
     "name": "stdout",
     "output_type": "stream",
     "text": [
      "2023-07-06 08:10:21,931 - Time taken: 5.612031936645508s\n"
     ]
    },
    {
     "data": {
      "text/plain": [
       "['#incremental', '#relational', '#time']"
      ]
     },
     "execution_count": 27,
     "metadata": {},
     "output_type": "execute_result"
    }
   ],
   "source": [
    "async def suggest_tags(\n",
    "    note: Note, note_title_dict: Dict[str, Note], vec_db: FAISS, temperature=0.0\n",
    ") -> List[str]:\n",
    "    linked_notes = [\n",
    "        note_title_dict.get(linked_title) for linked_title in note.metadata.note_links\n",
    "    ]\n",
    "    similar_notes = get_similar_notes(notes[3], vec_db, note_title_dict)\n",
    "\n",
    "    result = await analyze_tags(\n",
    "        note,\n",
    "        list(filter(None, linked_notes)),\n",
    "        list(filter(None, similar_notes)),\n",
    "        temperature=temperature,\n",
    "    )\n",
    "    try:\n",
    "        result_text = result[\"choices\"][0][\"message\"][\"content\"]\n",
    "\n",
    "        result_tags = list(set(re.findall(r\"#\\w+\", result_text)))\n",
    "        assert result_tags != []\n",
    "    except (AssertionError, KeyError):\n",
    "        print(note.title, result)\n",
    "        return []\n",
    "    return result_tags\n",
    "\n",
    "\n",
    "note = notes[3]\n",
    "note_title_dict = {n.title: n for n in notes}\n",
    "\n",
    "tags = await suggest_tags(note, note_title_dict, vec_db, temperature=0.1)\n",
    "\n",
    "tags"
   ]
  },
  {
   "cell_type": "markdown",
   "metadata": {},
   "source": [
    "### Time and temp analysis"
   ]
  },
  {
   "cell_type": "code",
   "execution_count": 37,
   "metadata": {},
   "outputs": [
    {
     "name": "stdout",
     "output_type": "stream",
     "text": [
      "2023-07-06 08:38:48,815 - Time taken: 2.7078630924224854s\n",
      "2023-07-06 08:38:49,936 - Time taken: 3.8311290740966797s\n",
      "2023-07-06 08:38:50,196 - Time taken: 4.090193033218384s\n",
      "2023-07-06 08:38:50,455 - Time taken: 4.3496270179748535s\n",
      "2023-07-06 08:38:51,319 - Time taken: 5.214974880218506s\n",
      "2023-07-06 08:38:51,429 - Time taken: 5.324207067489624s\n",
      "2023-07-06 08:38:51,590 - Time taken: 5.486499071121216s\n",
      "2023-07-06 08:38:51,867 - Time taken: 5.763485908508301s\n",
      "2023-07-06 08:38:51,906 - Time taken: 5.799304008483887s\n",
      "2023-07-06 08:38:52,059 - Time taken: 5.9558069705963135s\n",
      "2023-07-06 08:38:52,355 - Time taken: 6.250136137008667s\n"
     ]
    }
   ],
   "source": [
    "linked_notes = [\n",
    "    note_title_dict.get(linked_title) for linked_title in note.metadata.note_links\n",
    "]\n",
    "similar_notes = get_similar_notes(notes[3], vec_db, note_title_dict)\n",
    "\n",
    "temp_runs = [\n",
    "    (\n",
    "        t,\n",
    "        analyze_tags(\n",
    "            note,\n",
    "            list(filter(None, linked_notes)),\n",
    "            list(filter(None, similar_notes)),\n",
    "            temperature=t,\n",
    "        ),\n",
    "    )\n",
    "    for t in np.linspace(0, 1, 11)\n",
    "    for n in range(1)\n",
    "]\n",
    "temp_varying_results = await asyncio.gather(*[r[1] for r in temp_runs])"
   ]
  },
  {
   "cell_type": "code",
   "execution_count": 39,
   "metadata": {},
   "outputs": [
    {
     "data": {
      "text/plain": [
       "['Based on the given note and related notes, I would suggest adding the following tags to the note:\\n\\n1. #relational: The note discusses the concept of relational note-taking and emphasizes the importance of relationships between ideas. This tag captures the main theme of the note.\\n\\n2. #incremental: The note highlights the principles of incremental note-taking, which involves capturing ideas as they come and adding new ideas rather than updating old ones. This tag reflects the approach discussed in the note.\\n\\n3. #time: The note emphasizes the importance of time in the note-taking process and suggests that a good note-taking system should consider time as a first-class concept. This tag captures this aspect of the note.\\n\\n4. #zettelkasten: The note mentions Zettelkasten, a note organization method that focuses on relational note organization. Although the note does not provide detailed information about Zettelkasten, it is still relevant to include this tag as it is mentioned in the context of note-taking.\\n\\nTherefore, the suggested tags for the note are: #relational #incremental #time #zettelkasten.',\n",
       " 'Based on the given note and related notes, I would suggest adding the following tags to the note:\\n\\n1. #relational: The note discusses the concept of relational note-taking and emphasizes the importance of relationships between ideas. This tag would capture the main theme of the note.\\n\\n2. #incremental: The note highlights the principles of incremental note-taking, which involves capturing ideas as they come and adding new ideas rather than updating old ones. This tag would capture the approach advocated in the note.\\n\\n3. #time: The note emphasizes the importance of time in remembering and organizing notes. This tag would capture the concept of time as a first-class concept in note-taking.\\n\\n4. #zettelkasten: The note mentions Zettelkasten, a note organization method, and discusses its similarities and differences with other approaches. This tag would link the note to the topic of Zettelkasten.\\n\\nTherefore, the suggested tags for the note would be: #relational #incremental #time #zettelkasten.',\n",
       " 'Based on the provided note and related notes, I would suggest adding the following tags to the note:\\n\\n1. #relational: This tag captures the main concept of the note, which is relational note taking. It reflects the emphasis on the interconnectedness and relationships between ideas in the note.\\n\\n2. #incremental: This tag aligns with the principles of incremental note taking mentioned in the note. It highlights the importance of capturing ideas as they come and adding new ideas rather than updating old ones.\\n\\n3. #time: This tag corresponds to the emphasis on time in the note-taking system discussed. It recognizes the significance of time as a first-class concept in a good note-taking system.\\n\\n4. #Zettelkasten: This tag is relevant because the note mentions Zettelkasten as a related concept. It indicates that the note is connected to the principles and practices of Zettelkasten note-taking.\\n\\nTherefore, the suggested tags for the note would be: #relational #incremental #time #Zettelkasten.',\n",
       " 'Based on the note and the related notes, I would suggest adding the following tags to the note:\\n\\n1. #thoughtcollection: This tag is relevant because the note discusses the concept of relational note-taking and its principles, which can be considered as a collection of thoughts or ideas.\\n\\n2. #knowledgeorganization: This tag can be added to highlight the emphasis on organizing and structuring knowledge in the note.\\n\\n3. #incrementalthinking: This tag reflects the principle of incremental note-taking mentioned in the note, where capturing ideas and adding new ideas are considered important.\\n\\n4. #time: Since the note emphasizes the importance of time in remembering and the lack of a first-class way to look at things over time in certain note-taking tools, adding the #time tag would be appropriate.\\n\\nTherefore, the suggested tags for the note would be: #thoughtcollection, #knowledgeorganization, #incrementalthinking, and #time.',\n",
       " 'Based on the given note and the related notes, I have analyzed them to determine if any relevant tags are missing. Here are my findings:\\n\\n1. The note itself mentions \"relational note taking,\" which could be tagged as #notetaking.\\n\\n2. The related note about Obsidian is already tagged with #notetaking and #tool, which are relevant to the note.\\n\\n3. The related note about zettelkasten is tagged with #thoughtcollection and #notetaking, which are also relevant to the note.\\n\\nBased on this analysis, I would suggest adding the tag #notetaking to the note, as it is a relevant topic discussed in both the note and the related notes.',\n",
       " 'Based on the given note and the related notes, I would suggest adding the following tags to the note:\\n\\n- #relational: This tag can be added to indicate that the note is about relational note taking, as mentioned in the note itself.\\n- #incremental: This tag can be added to highlight the incremental nature of thought and note-taking discussed in the note.\\n- #time: This tag can be added to emphasize the importance of time in note-taking systems, as mentioned in the note.\\n- #zettelkasten: This tag can be added to connect the note to the concept of Zettelkasten, which is mentioned as a related note.\\n- #evergreennotes: This tag can be added to link the note to Evergreen Notes, which is also mentioned as a related note.\\n\\nThese additional tags will provide more context and make it easier to classify and search for the note in the future.',\n",
       " 'Based on the note and the related notes, here are the tags that could potentially be added to the note:\\n\\n1. #relational: The note discusses the concept of relational note taking and emphasizes the importance of relationships between ideas. This tag captures the central theme of the note.\\n\\n2. #incremental: The note mentions the principle of incremental note taking, which involves capturing new ideas rather than updating old ones. This tag highlights the approach advocated in the note.\\n\\n3. #time: The note emphasizes the significance of time in the note-taking process and suggests that a good note-taking system should have a first-class concept of time. This tag reflects the importance of time in the context of note taking.\\n\\n4. #Zettelkasten: The note mentions Zettelkasten, a note organization method that focuses on relational notes. This tag connects the note to the concept discussed in the related note.\\n\\nTherefore, the suggested additional tags for the note are: #relational, #incremental, #time, and #Zettelkasten.',\n",
       " 'Based on the given note and related notes, I would suggest adding the following tags to the note:\\n\\n1. #relational: The note discusses relational note-taking and emphasizes the importance of relationships between ideas.\\n\\n2. #incremental: The note highlights the principles of incremental note-taking, where capturing ideas, adding new ideas, and effective recall are emphasized.\\n\\n3. #time: The note mentions the significance of time in remembering and organizing notes, contrasting it with some note-taking tools.\\n\\n4. #zettelkasten: The note references the concept of Zettelkasten and its focus on relational note organization.\\n\\nTherefore, the suggested tags for the note are: #relational #incremental #time #zettelkasten.',\n",
       " 'Based on the note and the related notes, I would suggest adding the following tags to the note:\\n\\n- #relational: This tag is relevant to the note as it discusses relational note taking and the importance of making connections between ideas.\\n\\n- #incremental: This tag captures the principle mentioned in the note about the incremental nature of note taking and the value of capturing ideas as they arise.\\n\\n- #time: Since the note emphasizes the importance of time in remembering and organizing notes, the #time tag would be appropriate.\\n\\nTherefore, the suggested tags for the note would be: #notetaking, #relational, #incremental, and #time.',\n",
       " 'Based on the given note and related notes, I would suggest adding the following tags to the note:\\n\\n1. #relational: This tag should be added to indicate the emphasis on relational note-taking in the note and the linked notes. It captures the concept of linking and associating ideas in note-taking.\\n\\n2. #incremental: This tag should be added to highlight the principle of incremental note-taking mentioned in the note. It emphasizes capturing new ideas and the importance of preserving the thought process.\\n\\n3. #time: This tag should be added to reflect the significance of time in note-taking and the need for a first-class concept of time in a note-taking system.\\n\\n4. #zettelkasten: This tag should be added to connect the note with the linked note discussing the Zettelkasten note-taking method. It helps establish the relevance and similarity between the two.\\n\\nTherefore, the suggested tags for the note would be: #notetaking #relational #incremental #time #zettelkasten.',\n",
       " 'After analyzing the note and related notes, I have identified a potential missing tag for the note.\\nBased on the content and related notes, the note seems to be about the topic of \"incremental note taking\" or \"relational note taking\". Therefore, I would suggest adding the tag \"#incrementalnotetaking\" or \"#relationalnotetaking\" to the note.\\n\\nLet me know if you need any further assistance.']"
      ]
     },
     "execution_count": 39,
     "metadata": {},
     "output_type": "execute_result"
    }
   ],
   "source": [
    "[result[\"choices\"][0][\"message\"][\"content\"] for result in temp_varying_results]"
   ]
  },
  {
   "cell_type": "code",
   "execution_count": 40,
   "metadata": {},
   "outputs": [
    {
     "name": "stdout",
     "output_type": "stream",
     "text": [
      "2023-07-06 08:41:27,277 - Time taken: 4.604407072067261s\n",
      "2023-07-06 08:41:27,447 - Time taken: 4.4439918994903564s\n",
      "2023-07-06 08:41:27,934 - Time taken: 6.186061859130859s\n",
      "2023-07-06 08:41:28,410 - Time taken: 7.347073078155518s\n",
      "2023-07-06 08:41:29,017 - Time taken: 5.8125691413879395s\n",
      "2023-07-06 08:41:29,117 - Time taken: 7.184546232223511s\n",
      "2023-07-06 08:41:29,270 - Time taken: 8.647213220596313s\n",
      "2023-07-06 08:41:29,488 - Time taken: 7.295354843139648s\n",
      "2023-07-06 08:41:29,613 - Time taken: 8.174010276794434s\n",
      "2023-07-06 08:41:29,738 - Time taken: 8.873906135559082s\n",
      "2023-07-06 08:41:30,655 - Time taken: 8.218586206436157s\n"
     ]
    }
   ],
   "source": [
    "temp_runs = [\n",
    "    (t, suggest_tags(note, note_title_dict, vec_db, temperature=t))\n",
    "    for t in np.linspace(0, 1, 11)\n",
    "    for n in range(1)\n",
    "]\n",
    "temp_varying_tags = await asyncio.gather(*[r[1] for r in temp_runs])"
   ]
  },
  {
   "cell_type": "code",
   "execution_count": 41,
   "metadata": {},
   "outputs": [
    {
     "name": "stdout",
     "output_type": "stream",
     "text": [
      "temp 0.0 ['#incremental', '#relational', '#time', '#zettelkasten']\n",
      "temp 0.1 ['#incremental', '#relational', '#time', '#noteorganization']\n",
      "temp 0.2 ['#incremental', '#relational', '#time', '#noteorganization']\n",
      "temp 0.3 ['#time', '#notetakingtools', '#incremental', '#zettelkasten', '#relational', '#evergreennotes']\n",
      "temp 0.4 ['#incremental', '#relational', '#time', '#thoughtcollection']\n",
      "temp 0.5 ['#incremental', '#relational', '#time', '#Zettelkasten']\n",
      "temp 0.6 ['#incremental', '#relational', '#time', '#Zettelkasten']\n",
      "temp 0.7 ['#thoughtcollection', '#zettelkasten', '#notetaking', '#incrementalnotetaking', '#timemanagement', '#noteorganization']\n",
      "temp 0.8 ['#knowledgeorganizationtools', '#notesystem', '#knowledgeorganization', '#notetaking', '#noteorganization']\n",
      "temp 0.9 ['#time', '#informationmanagement', '#relational']\n",
      "temp 1.0 ['#incremental', '#relational', '#time']\n"
     ]
    }
   ],
   "source": [
    "for temp, tags in zip([r[0] for r in temp_runs], temp_varying_tags):\n",
    "    print(f\"temp {temp:0.1f}\", tags)"
   ]
  },
  {
   "cell_type": "code",
   "execution_count": 42,
   "metadata": {},
   "outputs": [
    {
     "data": {
      "text/plain": [
       "Note(path=PosixPath('example_notes/relational note taking.md'), title='relational note taking', full_text=\"relational note taking\\n- source: https://thesephist.com/posts/inc/\\n- tags: #notetaking \\nBlog post codefying their note taking style, principles and tooling. informs much of [[My Note taking principles]].\\n\\nUses an iceberg analogy, where most note taking accounts for the 10% of structured, easily codefiable notes such as meeting or lecture notes, or notes from reading. But misses the 90% of thoughts that are the majority of our thought process.\\n\\nHas a strong emphasis on the incremental nature of thought, and the nature of notes over time. My own past positive experience with note taking, and using those notes, was a chronological pen-and-paper lab notebook. a chronological view, with some labeling to spur thought, was the most effective way in which I actually used and referred back to my notes. This was acheived with a paper note taking system, which in this blog they discuss as being a low barrier way to capture the 90% of thought in their iceberg analogy.\\n\\nThings like [[Zettelkasten]] and [[Evergreen Notes]] focus on relational note organisation, and IMO their emphasis on time is taking a closer look at one of the only universal, in built, relationships that we share as people taking notes.\\n\\n\\n\\nThey state the following principles for incremental note taking:\\n> 1.  **Captured ideas are better than missed ones.** They go on to strongly emphasise low barrier to thought capture.\\n> 2.  **Adding new ideas is better than updating old ones.** Preserves process, and is non-lossy.\\n> 3.  **Ideas that can’t be recalled are worse than useless** – effective search and recall form the soul of great notes. Regardless of how you recall information back from your notes, a great note-taking system should make it trivial to get ideas out, as well as in.\\n> 4.  **Time is essential to how we remember**, and should be a first-class concept in a good note-taking system.\\n\\nThe way that this article describe them is a good example for [[My Note taking principles]]\\n\\nOf these, only the last one is not compatible with or doesn't overlap with [[General Zettelkasten Principles]] or [[Evergreen Notes]].\\n\\nHis primary critique of tools such as [[Obsidian]], [[Roam research]], or [[Notion]] is the lack of a first class way to look at things over time.\", lines=['- source: https://thesephist.com/posts/inc/', '- tags: #notetaking', 'Blog post codefying their note taking style, principles and tooling. informs much of [[My Note taking principles]].', '', 'Uses an iceberg analogy, where most note taking accounts for the 10% of structured, easily codefiable notes such as meeting or lecture notes, or notes from reading. But misses the 90% of thoughts that are the majority of our thought process.', '', 'Has a strong emphasis on the incremental nature of thought, and the nature of notes over time. My own past positive experience with note taking, and using those notes, was a chronological pen-and-paper lab notebook. a chronological view, with some labeling to spur thought, was the most effective way in which I actually used and referred back to my notes. This was acheived with a paper note taking system, which in this blog they discuss as being a low barrier way to capture the 90% of thought in their iceberg analogy.', '', 'Things like [[Zettelkasten]] and [[Evergreen Notes]] focus on relational note organisation, and IMO their emphasis on time is taking a closer look at one of the only universal, in built, relationships that we share as people taking notes.', '', '', '', 'They state the following principles for incremental note taking:', '> 1.  **Captured ideas are better than missed ones.** They go on to strongly emphasise low barrier to thought capture.', '> 2.  **Adding new ideas is better than updating old ones.** Preserves process, and is non-lossy.', '> 3.  **Ideas that can’t be recalled are worse than useless** – effective search and recall form the soul of great notes. Regardless of how you recall information back from your notes, a great note-taking system should make it trivial to get ideas out, as well as in.', '> 4.  **Time is essential to how we remember**, and should be a first-class concept in a good note-taking system.', '', 'The way that this article describe them is a good example for [[My Note taking principles]]', '', \"Of these, only the last one is not compatible with or doesn't overlap with [[General Zettelkasten Principles]] or [[Evergreen Notes]].\", '', 'His primary critique of tools such as [[Obsidian]], [[Roam research]], or [[Notion]] is the lack of a first class way to look at things over time.'], tags=['#notetaking'], sources=['https://thesephist.com/posts/inc/'], urls=['https://thesephist.com/posts/inc/'], body=\"Blog post codefying their note taking style, principles and tooling. informs much of [[My Note taking principles]].\\n\\nUses an iceberg analogy, where most note taking accounts for the 10% of structured, easily codefiable notes such as meeting or lecture notes, or notes from reading. But misses the 90% of thoughts that are the majority of our thought process.\\n\\nHas a strong emphasis on the incremental nature of thought, and the nature of notes over time. My own past positive experience with note taking, and using those notes, was a chronological pen-and-paper lab notebook. a chronological view, with some labeling to spur thought, was the most effective way in which I actually used and referred back to my notes. This was acheived with a paper note taking system, which in this blog they discuss as being a low barrier way to capture the 90% of thought in their iceberg analogy.\\n\\nThings like [[Zettelkasten]] and [[Evergreen Notes]] focus on relational note organisation, and IMO their emphasis on time is taking a closer look at one of the only universal, in built, relationships that we share as people taking notes.\\n\\n\\n\\nThey state the following principles for incremental note taking:\\n> 1.  **Captured ideas are better than missed ones.** They go on to strongly emphasise low barrier to thought capture.\\n> 2.  **Adding new ideas is better than updating old ones.** Preserves process, and is non-lossy.\\n> 3.  **Ideas that can’t be recalled are worse than useless** – effective search and recall form the soul of great notes. Regardless of how you recall information back from your notes, a great note-taking system should make it trivial to get ideas out, as well as in.\\n> 4.  **Time is essential to how we remember**, and should be a first-class concept in a good note-taking system.\\n\\nThe way that this article describe them is a good example for [[My Note taking principles]]\\n\\nOf these, only the last one is not compatible with or doesn't overlap with [[General Zettelkasten Principles]] or [[Evergreen Notes]].\\n\\nHis primary critique of tools such as [[Obsidian]], [[Roam research]], or [[Notion]] is the lack of a first class way to look at things over time.\", metadata=NoteMetadata(title='relational note taking.md', tags=['#notetaking'], note_links=['My Note taking principles', 'Zettelkasten', 'Evergreen Notes', 'My Note taking principles', 'General Zettelkasten Principles', 'Evergreen Notes', 'Obsidian', 'Roam research', 'Notion'], back_links=[], short_title='rltnl_note_tkng.'))"
      ]
     },
     "execution_count": 42,
     "metadata": {},
     "output_type": "execute_result"
    }
   ],
   "source": [
    "note"
   ]
  },
  {
   "cell_type": "markdown",
   "metadata": {},
   "source": [
    "### Run on all notes"
   ]
  },
  {
   "cell_type": "code",
   "execution_count": null,
   "metadata": {},
   "outputs": [],
   "source": [
    "all_suggested_tags = await asyncio.gather(\n",
    "    *[suggest_tags(n, note_title_dict, vec_db) for n in notes]\n",
    ")"
   ]
  },
  {
   "cell_type": "code",
   "execution_count": null,
   "metadata": {},
   "outputs": [
    {
     "data": {
      "text/plain": [
       "[['#rpgs', '#thoughtcollection', '#Ritualsofplay', '#LoadedQuestions'],\n",
       " ['#conversationstyle',\n",
       "  '#affordances',\n",
       "  '#communication',\n",
       "  '#interpersonalcommunication',\n",
       "  '#improvisation'],\n",
       " ['#storytelling', '#improv', '#theater'],\n",
       " ['#relational', '#notetaking'],\n",
       " ['#rpg'],\n",
       " ['#tool', '#thoughtcollection', '#notetaking'],\n",
       " ['#rpg', '#thoughts', '#gamebalance', '#spellcasting', '#magictradeoffs'],\n",
       " ['#worldbuilding', '#storyresponsibility', '#metacharacter', '#failure'],\n",
       " ['#deeplearning', '#graph'],\n",
       " ['#tutorial', '#writing'],\n",
       " ['#thoughtcollection', '#notetaking'],\n",
       " ['#deeplearning',\n",
       "  '#machinelearning',\n",
       "  '#graph',\n",
       "  '#neuralnetwork',\n",
       "  '#transferlearning',\n",
       "  '#representationlearning'],\n",
       " ['#graph', '#bayesian', '#probability'],\n",
       " ['#gamedesignanalysis', '#videogames', '#gamestorytelling'],\n",
       " ['#roleplaying', '#gmless', '#tropes', '#storyresponsibility', '#npc'],\n",
       " ['#deeplearning', '#messagepassing', '#graphstructure'],\n",
       " ['#graph', '#machinelearning', '#algorithm'],\n",
       " ['#deeplearning', '#resource'],\n",
       " ['#Pluginrules', '#RPG', '#Homebrew', '#Rules'],\n",
       " ['#etiquette', '#affordances', '#improv', '#communication', '#conversations'],\n",
       " ['#GNN', '#2021'],\n",
       " ['#improv', '#rpg', '#gamebalance', '#anticannon'],\n",
       " ['#gamepreparation', '#improvisation', '#creativity']]"
      ]
     },
     "execution_count": 56,
     "metadata": {},
     "output_type": "execute_result"
    }
   ],
   "source": [
    "all_suggested_tags"
   ]
  },
  {
   "cell_type": "code",
   "execution_count": 43,
   "metadata": {},
   "outputs": [
    {
     "ename": "NameError",
     "evalue": "name 'all_suggested_tags' is not defined",
     "output_type": "error",
     "traceback": [
      "\u001b[0;31m---------------------------------------------------------------------------\u001b[0m",
      "\u001b[0;31mNameError\u001b[0m                                 Traceback (most recent call last)",
      "Cell \u001b[0;32mIn[43], line 1\u001b[0m\n\u001b[0;32m----> 1\u001b[0m \u001b[39mfor\u001b[39;00m n, tags \u001b[39min\u001b[39;00m \u001b[39mzip\u001b[39m(notes, all_suggested_tags):\n\u001b[1;32m      2\u001b[0m     \u001b[39mprint\u001b[39m(\u001b[39m\"\u001b[39m\u001b[39m---\u001b[39m\u001b[39m\\n\u001b[39;00m\u001b[39m\"\u001b[39m, n\u001b[39m.\u001b[39mmetadata\u001b[39m.\u001b[39mshort_title)\n\u001b[1;32m      3\u001b[0m     \u001b[39mprint\u001b[39m(n\u001b[39m.\u001b[39mtags)\n",
      "\u001b[0;31mNameError\u001b[0m: name 'all_suggested_tags' is not defined"
     ]
    }
   ],
   "source": [
    "for n, tags in zip(notes, all_suggested_tags):\n",
    "    print(\"---\\n\", n.metadata.short_title)\n",
    "    print(n.tags)\n",
    "    print(tags)\n",
    "    print([t for t in tags if t in curated_tags])"
   ]
  },
  {
   "cell_type": "markdown",
   "metadata": {},
   "source": [
    "## Langchain approach"
   ]
  },
  {
   "cell_type": "code",
   "execution_count": null,
   "metadata": {},
   "outputs": [],
   "source": [
    "Use a chain structure to "
   ]
  },
  {
   "cell_type": "code",
   "execution_count": null,
   "metadata": {},
   "outputs": [],
   "source": []
  },
  {
   "cell_type": "code",
   "execution_count": null,
   "metadata": {},
   "outputs": [],
   "source": []
  },
  {
   "cell_type": "code",
   "execution_count": null,
   "metadata": {},
   "outputs": [],
   "source": []
  }
 ],
 "metadata": {
  "kernelspec": {
   "display_name": ".venv",
   "language": "python",
   "name": "python3"
  },
  "language_info": {
   "codemirror_mode": {
    "name": "ipython",
    "version": 3
   },
   "file_extension": ".py",
   "mimetype": "text/x-python",
   "name": "python",
   "nbconvert_exporter": "python",
   "pygments_lexer": "ipython3",
   "version": "3.11.3"
  },
  "orig_nbformat": 4
 },
 "nbformat": 4,
 "nbformat_minor": 2
}
